{
 "cells": [
  {
   "cell_type": "code",
   "execution_count": 1,
   "id": "c625cd5f",
   "metadata": {},
   "outputs": [],
   "source": [
    "import numpy as np\n",
    "from qiskit.ignis.characterization.calibrations import rabi_schedules, RabiFitter\n",
    "\n",
    "from qiskit.pulse import DriveChannel\n",
    "from qiskit.compiler import assemble\n",
    "from qiskit.qobj.utils import MeasLevel, MeasReturnType"
   ]
  },
  {
   "cell_type": "code",
   "execution_count": 2,
   "id": "0ac9c4c8",
   "metadata": {},
   "outputs": [],
   "source": [
    "# The pulse simulator\n",
    "from qiskit.providers.aer import PulseSimulator\n",
    "\n",
    "# Object for representing physical models\n",
    "from qiskit.providers.aer.pulse import PulseSystemModel\n",
    "\n",
    "# Mock Armonk backend\n",
    "from qiskit.test.mock.backends.armonk.fake_armonk import FakeArmonk"
   ]
  },
  {
   "cell_type": "code",
   "execution_count": 3,
   "id": "9f309897",
   "metadata": {},
   "outputs": [],
   "source": [
    "armonk_backend = FakeArmonk()"
   ]
  },
  {
   "cell_type": "code",
   "execution_count": 4,
   "id": "48057046",
   "metadata": {},
   "outputs": [],
   "source": [
    "freq_est = 4.97e9\n",
    "drive_est = 6.35e7\n",
    "armonk_backend.defaults().qubit_freq_est = [freq_est]\n",
    "armonk_backend.configuration().hamiltonian['h_str']= ['wq0*0.5*(I0-Z0)', 'omegad0*X0||D0']\n",
    "armonk_backend.configuration().hamiltonian['vars'] = {'wq0': 2 * np.pi * freq_est, 'omegad0': drive_est}\n",
    "armonk_backend.configuration().hamiltonian['qub'] = {'0': 2}\n",
    "armonk_backend.configuration().dt = 2.2222222222222221e-10"
   ]
  },
  {
   "cell_type": "code",
   "execution_count": 5,
   "id": "652a7183",
   "metadata": {},
   "outputs": [],
   "source": [
    "armonk_model = PulseSystemModel.from_backend(armonk_backend)"
   ]
  },
  {
   "cell_type": "code",
   "execution_count": 6,
   "id": "27fa6a3c",
   "metadata": {},
   "outputs": [],
   "source": [
    "# qubit list\n",
    "qubits = [0]\n",
    "\n",
    "# drive amplitudes to use\n",
    "num_exps = 64\n",
    "drive_amps = np.linspace(0, 1.0, num_exps)\n",
    "\n",
    "# drive shape parameters\n",
    "drive_duration = 2048\n",
    "drive_sigma = 256\n",
    "\n",
    "# list of drive channels\n",
    "drive_channels = [DriveChannel(0)]\n",
    "\n",
    "# construct the schedules\n",
    "rabi_schedules, xdata = rabi_schedules(amp_list=drive_amps,\n",
    "                                       qubits=qubits,\n",
    "                                       pulse_width=drive_duration,\n",
    "                                       pulse_sigma=drive_sigma,\n",
    "                                       drives=drive_channels,\n",
    "                                       inst_map=armonk_backend.defaults().instruction_schedule_map,\n",
    "                                       meas_map=armonk_backend.configuration().meas_map)"
   ]
  },
  {
   "cell_type": "code",
   "execution_count": 7,
   "id": "0deeaa65",
   "metadata": {},
   "outputs": [],
   "source": [
    "backend_sim = PulseSimulator(system_model=armonk_model)\n",
    "\n",
    "rabi_qobj = assemble(rabi_schedules,\n",
    "                     backend=backend_sim,\n",
    "                     meas_level=1,\n",
    "                     meas_return='avg',\n",
    "                     shots=512)"
   ]
  },
  {
   "cell_type": "code",
   "execution_count": 8,
   "id": "8c17ce36",
   "metadata": {},
   "outputs": [
    {
     "name": "stderr",
     "output_type": "stream",
     "text": [
      "/usr/local/lib/python3.9/site-packages/qiskit/providers/aer/pulse/controllers/pulse_controller.py:142: UserWarning: Warning: qubit_lo_freq was not specified in PulseQobj and there is no default, so it is beign automatically determined from the drift Hamiltonian.\n",
      "  warn('Warning: qubit_lo_freq was not specified in PulseQobj and there is no default, '\n",
      "/usr/local/lib/python3.9/site-packages/qiskit/providers/aer/pulse/system_models/string_model_parser/gen_operator.py:141: DeprecationWarning: Using the `__mul__` operator `A * B` as shorthand for `A.dot(B)` is deprecated as of version 0.17.0 and will be  removed no earlier than 3 months after the release date. As an alternative, use the compose operator `B & A` in place of `A * B` as a replacement.\n",
      "  return psi * psi.adjoint()\n",
      "/usr/local/lib/python3.9/site-packages/qiskit/providers/aer/pulse/system_models/string_model_parser/operator_generators.py:154: DeprecationWarning: Using the `__matmul__` operator `A @ B` as shorthand for `A.compose(B)` is deprecated as of version 0.17.0 and will be  removed no earlier than 3 months after the release date. Use the `A & B` instead.\n",
      "  proj_op += estate @ estate.adjoint()\n"
     ]
    }
   ],
   "source": [
    "sim_result = backend_sim.run(rabi_qobj).result()"
   ]
  },
  {
   "cell_type": "code",
   "execution_count": 9,
   "id": "188d1e92",
   "metadata": {},
   "outputs": [
    {
     "name": "stdout",
     "output_type": "stream",
     "text": [
      "Pi Amp: 0.346917\n"
     ]
    },
    {
     "data": {
      "image/png": "[encoded data removed]",
      "text/plain": [
       "<Figure size 432x288 with 1 Axes>"
      ]
     },
     "metadata": {
      "needs_background": "light"
     },
     "output_type": "display_data"
    }
   ],
   "source": [
    "rabi_fit = RabiFitter(sim_result, xdata, qubits, fit_p0 = [1.5, 2, 0, 0])\n",
    "\n",
    "# get the pi amplitude\n",
    "pi_amp = rabi_fit.pi_amplitude(0)\n",
    "\n",
    "# plot\n",
    "rabi_fit.plot(0)\n",
    "print('Pi Amp: %f'%pi_amp)"
   ]
  },
  {
   "cell_type": "code",
   "execution_count": null,
   "id": "4337e235",
   "metadata": {},
   "outputs": [],
   "source": []
  }
 ],
 "metadata": {
  "kernelspec": {
   "display_name": "Python 3 (ipykernel)",
   "language": "python",
   "name": "python3"
  },
  "language_info": {
   "codemirror_mode": {
    "name": "ipython",
    "version": 3
   },
   "file_extension": ".py",
   "mimetype": "text/x-python",
   "name": "python",
   "nbconvert_exporter": "python",
   "pygments_lexer": "ipython3",
   "version": "3.9.12"
  }
 },
 "nbformat": 4,
 "nbformat_minor": 5
}
