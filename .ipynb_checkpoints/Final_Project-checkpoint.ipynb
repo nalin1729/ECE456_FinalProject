{
 "cells": [
  {
   "cell_type": "code",
   "execution_count": 123,
   "metadata": {},
   "outputs": [],
   "source": [
    "from qutip import *\n",
    "import numpy as np\n",
    "import sympy as sym\n",
    "import matplotlib.pyplot as plt\n",
    "import cmath as cm"
   ]
  },
  {
   "cell_type": "code",
   "execution_count": 128,
   "metadata": {},
   "outputs": [],
   "source": [
    "g= basis(3, 0)\n",
    "e = basis(3, 1)\n",
    "f = basis(3, 2)"
   ]
  },
  {
   "cell_type": "code",
   "execution_count": 207,
   "metadata": {},
   "outputs": [],
   "source": [
    "ω = 5.8*2*np.pi*10**3\n",
    "γ_e = 5.25 \n",
    "γ_f = 0.25\n",
    "J = 2 * np.pi * 3\n",
    "\n",
    "# Parameters for predicted values\n",
    "α = np.sqrt(J * J - γ_e ** 2 / 16)\n",
    "θ = np.arcsin(γ_e / 4 / J)\n",
    "\n",
    "Δ = 0\n",
    "\n",
    "z = complex(0,1)"
   ]
  },
  {
   "cell_type": "code",
   "execution_count": 210,
   "metadata": {},
   "outputs": [],
   "source": [
    "def alpha(time):\n",
    "    return np.exp(-γ_e/2*time)*(J/α)**2*np.sin(α*time)**2"
   ]
  },
  {
   "cell_type": "code",
   "execution_count": null,
   "metadata": {},
   "outputs": [],
   "source": []
  },
  {
   "cell_type": "code",
   "execution_count": 192,
   "metadata": {},
   "outputs": [],
   "source": [
    "H_eff = J*(tensor(e,f.dag())+tensor(f,e.dag())) - (Δ/2)*(tensor(f,f.dag())-tensor(e,e.dag()))"
   ]
  },
  {
   "cell_type": "code",
   "execution_count": 193,
   "metadata": {},
   "outputs": [
    {
     "name": "stdout",
     "output_type": "stream",
     "text": [
      "Quantum object: dims = [[3, 1], [1, 3]], shape = (3, 3), type = oper, isherm = True\n",
      "Qobj data =\n",
      "[[ 0.          0.          0.        ]\n",
      " [ 0.          0.         18.84955592]\n",
      " [ 0.         18.84955592  0.        ]]\n"
     ]
    }
   ],
   "source": [
    "print(H_eff)"
   ]
  },
  {
   "cell_type": "code",
   "execution_count": 194,
   "metadata": {},
   "outputs": [],
   "source": [
    "H_eff.dims = [[3],[3]]"
   ]
  },
  {
   "cell_type": "code",
   "execution_count": 195,
   "metadata": {},
   "outputs": [],
   "source": [
    "psi0 = basis(3,2)"
   ]
  },
  {
   "cell_type": "code",
   "execution_count": 196,
   "metadata": {},
   "outputs": [],
   "source": [
    "#a = destroy(2)       # oscillator annihilation operator\n",
    "\n",
    "# A list of collapse operators\n",
    "c_ops = []\n",
    "L_e = np.sqrt(γ_e) * tensor(g,e.dag())\n",
    "L_e.dims = [[3],[3]]\n",
    "L_f = np.sqrt(γ_f) * tensor(e,f.dag())\n",
    "L_f.dims = [[3],[3]]\n",
    "c_ops.append(L_e)\n",
    "c_ops.append(L_f)"
   ]
  },
  {
   "cell_type": "code",
   "execution_count": 197,
   "metadata": {},
   "outputs": [
    {
     "name": "stdout",
     "output_type": "stream",
     "text": [
      "Quantum object: dims = [[3], [3]], shape = (3, 3), type = oper, isherm = False\n",
      "Qobj data =\n",
      "[[0.  0.  0. ]\n",
      " [0.  0.  0.5]\n",
      " [0.  0.  0. ]]\n"
     ]
    }
   ],
   "source": [
    "print(L_f)"
   ]
  },
  {
   "cell_type": "code",
   "execution_count": 199,
   "metadata": {},
   "outputs": [],
   "source": [
    "tlist = np.linspace(0, 2, 1000)\n",
    "\n",
    "# request that the solver return the expectation value of the photon number state operator a.dag() * a\n",
    "result = mesolve(H_eff, psi0, tlist, c_ops, []) "
   ]
  },
  {
   "cell_type": "code",
   "execution_count": 211,
   "metadata": {},
   "outputs": [],
   "source": [
    "alphas = []\n",
    "for time in tlist:\n",
    "    alphas.append(alpha(time))"
   ]
  },
  {
   "cell_type": "code",
   "execution_count": 200,
   "metadata": {},
   "outputs": [],
   "source": [
    "#print(result.states[0][1][0][1])\n",
    "#print(result.states[0][2][0][2])\n",
    "\n",
    "rho_ee = [state[1][0][1].real for state in result.states]\n",
    "#print(rho_ee)"
   ]
  },
  {
   "cell_type": "code",
   "execution_count": 214,
   "metadata": {},
   "outputs": [
    {
     "data": {
      "image/png": "[encoded data removed]",
      "text/plain": [
       "<Figure size 432x288 with 1 Axes>"
      ]
     },
     "metadata": {
      "needs_background": "light"
     },
     "output_type": "display_data"
    }
   ],
   "source": [
    "fig, axes = plt.subplots(1,1)\n",
    "axes.plot(tlist, rho_ee)\n",
    "axes.plot(tlist, alphas)\n",
    "axes.set_xlabel(r'$t$', fontsize=20)\n",
    "axes.set_ylabel(r\"$\\rho_{ee}$\", fontsize=16);"
   ]
  },
  {
   "cell_type": "code",
   "execution_count": null,
   "metadata": {},
   "outputs": [],
   "source": []
  },
  {
   "cell_type": "code",
   "execution_count": null,
   "metadata": {},
   "outputs": [],
   "source": []
  }
 ],
 "metadata": {
  "kernelspec": {
   "display_name": "Python 3 (ipykernel)",
   "language": "python",
   "name": "python3"
  },
  "language_info": {
   "codemirror_mode": {
    "name": "ipython",
    "version": 3
   },
   "file_extension": ".py",
   "mimetype": "text/x-python",
   "name": "python",
   "nbconvert_exporter": "python",
   "pygments_lexer": "ipython3",
   "version": "3.9.12"
  }
 },
 "nbformat": 4,
 "nbformat_minor": 4
}
