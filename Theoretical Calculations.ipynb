{
 "cells": [
  {
   "cell_type": "code",
   "execution_count": 4,
   "id": "effdc80d",
   "metadata": {},
   "outputs": [],
   "source": [
    "import numpy as np\n",
    "from sympy import *"
   ]
  },
  {
   "cell_type": "code",
   "execution_count": 43,
   "id": "c3f925e5",
   "metadata": {},
   "outputs": [
    {
     "name": "stdout",
     "output_type": "stream",
     "text": [
      "Matrix([[0, 0, 0], [0, D*J/2, J], [0, J, -D*J/2]])\n"
     ]
    }
   ],
   "source": [
    "# Declare Variables\n",
    "var('p_gg p_ge p_gf p_eg p_ee p_ef p_fg p_fe p_ff')\n",
    "J = Symbol('J', positive=True)\n",
    "gamma_e = Symbol('gamma_e', positive=True)\n",
    "gamma_f = Symbol('gamma_f', positive=True)\n",
    "D = Symbol('D', positive=True)\n",
    "\n",
    "# Some Basic Matrix Operations and Definitions\n",
    "\n",
    "def num_commutator(A, B):\n",
    "    return np.dot(A, B) - np.dot(B, A)\n",
    "\n",
    "def num_anticommutator(A, B):\n",
    "    return np.dot(A, B) + np.dot(B, A)\n",
    "\n",
    "def commutator(A, B):\n",
    "    return A.multiply(B) - B.multiply(A)\n",
    "\n",
    "def anticommutator(A, B):\n",
    "    return A.multiply(B) + B.multiply(A)\n",
    "\n",
    "# Matrices will be represented in the {g, e, f} basis\n",
    "ket_g = Matrix([1, 0, 0])\n",
    "ket_e = Matrix([0, 1, 0])\n",
    "ket_f = Matrix([0, 0, 1])\n",
    "bra_g = bra_g.H\n",
    "bra_e = bra_e.H\n",
    "bra_f = bra_f.H\n",
    "rho = Matrix([[p_gg, p_ge, p_gf], [p_eg, p_ee, p_ef], [p_fg, p_fe, p_ff]])\n",
    "\n",
    "H_c = J * (ket_e.multiply(bra_f) + ket_f.multiply(bra_e) - D / 2 * (ket_f * bra_f - ket_e * bra_e))\n",
    "L_e = sqrt(gamma_e) * ket_g.multiply(bra_e); L_f = sqrt(gamma_f) * ket_e.multiply(bra_f)\n",
    "\n",
    "print(H_c)"
   ]
  },
  {
   "cell_type": "code",
   "execution_count": 44,
   "id": "7dba944f",
   "metadata": {},
   "outputs": [
    {
     "name": "stdout",
     "output_type": "stream",
     "text": [
      "(e, e) element:\n",
      "-γₑ⋅pₑₑ + γ_f⋅p_ff - ⅈ⋅(-J⋅p_ef + J⋅p_fe)\n",
      "\n",
      "(e, f) element:\n",
      "  γₑ⋅p_ef   γ_f⋅p_ef                                \n",
      "- ─────── - ──────── - ⅈ⋅(D⋅J⋅p_ef - J⋅pₑₑ + J⋅p_ff)\n",
      "     2         2                                    \n",
      "\n",
      "(f, e) element:\n",
      "  γₑ⋅p_fe   γ_f⋅p_fe                                 \n",
      "- ─────── - ──────── - ⅈ⋅(-D⋅J⋅p_fe + J⋅pₑₑ - J⋅p_ff)\n",
      "     2         2                                     \n",
      "\n",
      "(f, f) element:\n",
      "-γ_f⋅p_ff - ⅈ⋅(J⋅p_ef - J⋅p_fe)\n"
     ]
    }
   ],
   "source": [
    "# Deriving the Effective Hamiltonian from the Lindblad Equation\n",
    "\n",
    "rho_dot = -1j * commutator(H_c, rho) \n",
    "rho_dot += L_e.multiply(rho.multiply(L_e.H)); rho_dot += L_f.multiply(rho.multiply(L_f.H))\n",
    "rho_dot -= anticommutator(L_e.H.multiply(L_e), rho) / 2; rho_dot -= anticommutator(L_f.H.multiply(L_f), rho) / 2;\n",
    "\n",
    "print(\"(e, e) element:\")\n",
    "pprint(rho_dot[1,1])\n",
    "print(\"\\n(e, f) element:\")\n",
    "pprint(rho_dot[1,2])\n",
    "print(\"\\n(f, e) element:\")\n",
    "pprint(rho_dot[2,1])\n",
    "print(\"\\n(f, f) element:\")\n",
    "pprint(rho_dot[2,2])"
   ]
  },
  {
   "cell_type": "code",
   "execution_count": 50,
   "id": "ae30ab54",
   "metadata": {},
   "outputs": [
    {
     "name": "stdout",
     "output_type": "stream",
     "text": [
      "⎡         b⋅p_fe - c⋅p_ef           a⋅p_ef - b⋅pₑₑ + b⋅p_ff - d⋅p_ef⎤\n",
      "⎢                                                                   ⎥\n",
      "⎣-a⋅p_fe + c⋅pₑₑ - c⋅p_ff + d⋅p_fe          -b⋅p_fe + c⋅p_ef        ⎦\n"
     ]
    }
   ],
   "source": [
    "var('a b c d')\n",
    "\n",
    "A = Matrix([[a, b], [c, d]])\n",
    "B = Matrix([[p_ee, p_ef],[p_fe, p_ff]])\n",
    "\n",
    "pprint(commutator(A, B))"
   ]
  },
  {
   "cell_type": "code",
   "execution_count": null,
   "id": "21261c82",
   "metadata": {},
   "outputs": [],
   "source": []
  }
 ],
 "metadata": {
  "kernelspec": {
   "display_name": "Python 3 (ipykernel)",
   "language": "python",
   "name": "python3"
  },
  "language_info": {
   "codemirror_mode": {
    "name": "ipython",
    "version": 3
   },
   "file_extension": ".py",
   "mimetype": "text/x-python",
   "name": "python",
   "nbconvert_exporter": "python",
   "pygments_lexer": "ipython3",
   "version": "3.9.12"
  }
 },
 "nbformat": 4,
 "nbformat_minor": 5
}
