{
 "cells": [
  {
   "cell_type": "code",
   "execution_count": 2,
   "id": "bce143c9",
   "metadata": {},
   "outputs": [],
   "source": [
    "import numpy as np\n",
    "import matplotlib\n",
    "from matplotlib import pyplot\n",
    "import qutip"
   ]
  },
  {
   "cell_type": "code",
   "execution_count": 3,
   "id": "c7790c15",
   "metadata": {},
   "outputs": [],
   "source": [
    "# Parameter Values\n",
    "gamma_e = 5.25e-6 # [s^-1]\n",
    "gamma_f = 0.25e-6 # [s^-1]"
   ]
  },
  {
   "cell_type": "code",
   "execution_count": null,
   "id": "39fe3bda",
   "metadata": {},
   "outputs": [],
   "source": []
  }
 ],
 "metadata": {
  "kernelspec": {
   "display_name": "Python 3 (ipykernel)",
   "language": "python",
   "name": "python3"
  },
  "language_info": {
   "codemirror_mode": {
    "name": "ipython",
    "version": 3
   },
   "file_extension": ".py",
   "mimetype": "text/x-python",
   "name": "python",
   "nbconvert_exporter": "python",
   "pygments_lexer": "ipython3",
   "version": "3.9.12"
  }
 },
 "nbformat": 4,
 "nbformat_minor": 5
}
